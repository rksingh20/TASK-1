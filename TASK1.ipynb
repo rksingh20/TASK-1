{
 "cells": [
  {
   "cell_type": "markdown",
   "id": "134c15ad",
   "metadata": {},
   "source": [
    "# The Spark Foundation (Grip August 2021)"
   ]
  },
  {
   "cell_type": "markdown",
   "id": "c1d30706",
   "metadata": {},
   "source": [
    "# TASK 1 Predicting using Supervised Learning"
   ]
  },
  {
   "cell_type": "markdown",
   "id": "2093b16a",
   "metadata": {},
   "source": [
    "## Objective : Predict the percentage of an student based on the no. of study hours."
   ]
  },
  {
   "cell_type": "markdown",
   "id": "d411d265",
   "metadata": {},
   "source": [
    "### Problem : What will be predicted score if a student studies for 9.25 hrs/ day?"
   ]
  },
  {
   "cell_type": "markdown",
   "id": "01d7adda",
   "metadata": {},
   "source": [
    "### Author : Rahul Kumar Singh"
   ]
  },
  {
   "cell_type": "markdown",
   "id": "3d9c8fa8",
   "metadata": {},
   "source": [
    "## Importing Important Libraries"
   ]
  },
  {
   "cell_type": "code",
   "execution_count": 1,
   "id": "1af9bd86",
   "metadata": {},
   "outputs": [],
   "source": [
    "import pandas as pd\n",
    "import seaborn as sns\n",
    "import numpy as np\n",
    "import matplotlib.pyplot as plt\n",
    "from sklearn.model_selection import train_test_split\n",
    "from sklearn.linear_model import LinearRegression\n",
    "from sklearn.metrics import mean_absolute_error,mean_squared_error\n",
    "%matplotlib inline"
   ]
  },
  {
   "cell_type": "markdown",
   "id": "54cb0bf1",
   "metadata": {},
   "source": [
    "## Importing Data"
   ]
  },
  {
   "cell_type": "code",
   "execution_count": 2,
   "id": "31fc7af6",
   "metadata": {},
   "outputs": [],
   "source": [
    "url=\"http://bit.ly/w-data\"\n",
    "df=pd.read_csv(url)   "
   ]
  },
  {
   "cell_type": "code",
   "execution_count": 3,
   "id": "140bddf3",
   "metadata": {},
   "outputs": [
    {
     "data": {
      "text/html": [
       "<div>\n",
       "<style scoped>\n",
       "    .dataframe tbody tr th:only-of-type {\n",
       "        vertical-align: middle;\n",
       "    }\n",
       "\n",
       "    .dataframe tbody tr th {\n",
       "        vertical-align: top;\n",
       "    }\n",
       "\n",
       "    .dataframe thead th {\n",
       "        text-align: right;\n",
       "    }\n",
       "</style>\n",
       "<table border=\"1\" class=\"dataframe\">\n",
       "  <thead>\n",
       "    <tr style=\"text-align: right;\">\n",
       "      <th></th>\n",
       "      <th>Hours</th>\n",
       "      <th>Scores</th>\n",
       "    </tr>\n",
       "  </thead>\n",
       "  <tbody>\n",
       "    <tr>\n",
       "      <th>0</th>\n",
       "      <td>2.5</td>\n",
       "      <td>21</td>\n",
       "    </tr>\n",
       "    <tr>\n",
       "      <th>1</th>\n",
       "      <td>5.1</td>\n",
       "      <td>47</td>\n",
       "    </tr>\n",
       "    <tr>\n",
       "      <th>2</th>\n",
       "      <td>3.2</td>\n",
       "      <td>27</td>\n",
       "    </tr>\n",
       "    <tr>\n",
       "      <th>3</th>\n",
       "      <td>8.5</td>\n",
       "      <td>75</td>\n",
       "    </tr>\n",
       "    <tr>\n",
       "      <th>4</th>\n",
       "      <td>3.5</td>\n",
       "      <td>30</td>\n",
       "    </tr>\n",
       "  </tbody>\n",
       "</table>\n",
       "</div>"
      ],
      "text/plain": [
       "   Hours  Scores\n",
       "0    2.5      21\n",
       "1    5.1      47\n",
       "2    3.2      27\n",
       "3    8.5      75\n",
       "4    3.5      30"
      ]
     },
     "execution_count": 3,
     "metadata": {},
     "output_type": "execute_result"
    }
   ],
   "source": [
    "df.head()"
   ]
  },
  {
   "cell_type": "markdown",
   "id": "d75de2ae",
   "metadata": {},
   "source": [
    "#### Summary Of Data"
   ]
  },
  {
   "cell_type": "code",
   "execution_count": 4,
   "id": "2856d1d2",
   "metadata": {},
   "outputs": [
    {
     "data": {
      "text/plain": [
       "(25, 2)"
      ]
     },
     "execution_count": 4,
     "metadata": {},
     "output_type": "execute_result"
    }
   ],
   "source": [
    "df.shape"
   ]
  },
  {
   "cell_type": "code",
   "execution_count": 5,
   "id": "93e0cb24",
   "metadata": {},
   "outputs": [
    {
     "name": "stdout",
     "output_type": "stream",
     "text": [
      "<class 'pandas.core.frame.DataFrame'>\n",
      "RangeIndex: 25 entries, 0 to 24\n",
      "Data columns (total 2 columns):\n",
      " #   Column  Non-Null Count  Dtype  \n",
      "---  ------  --------------  -----  \n",
      " 0   Hours   25 non-null     float64\n",
      " 1   Scores  25 non-null     int64  \n",
      "dtypes: float64(1), int64(1)\n",
      "memory usage: 528.0 bytes\n"
     ]
    }
   ],
   "source": [
    "df.info()"
   ]
  },
  {
   "cell_type": "markdown",
   "id": "190c8527",
   "metadata": {},
   "source": [
    "#### Checking the null values in dataframe"
   ]
  },
  {
   "cell_type": "code",
   "execution_count": 6,
   "id": "8fe12666",
   "metadata": {},
   "outputs": [
    {
     "data": {
      "text/plain": [
       "Hours     0\n",
       "Scores    0\n",
       "dtype: int64"
      ]
     },
     "execution_count": 6,
     "metadata": {},
     "output_type": "execute_result"
    }
   ],
   "source": [
    "df.isnull().sum()"
   ]
  },
  {
   "cell_type": "markdown",
   "id": "58d49c6f",
   "metadata": {},
   "source": [
    "##### we found that, there is no missing value in our dataframe"
   ]
  },
  {
   "cell_type": "code",
   "execution_count": 7,
   "id": "3f6e9189",
   "metadata": {},
   "outputs": [
    {
     "data": {
      "text/html": [
       "<div>\n",
       "<style scoped>\n",
       "    .dataframe tbody tr th:only-of-type {\n",
       "        vertical-align: middle;\n",
       "    }\n",
       "\n",
       "    .dataframe tbody tr th {\n",
       "        vertical-align: top;\n",
       "    }\n",
       "\n",
       "    .dataframe thead th {\n",
       "        text-align: right;\n",
       "    }\n",
       "</style>\n",
       "<table border=\"1\" class=\"dataframe\">\n",
       "  <thead>\n",
       "    <tr style=\"text-align: right;\">\n",
       "      <th></th>\n",
       "      <th>Hours</th>\n",
       "      <th>Scores</th>\n",
       "    </tr>\n",
       "  </thead>\n",
       "  <tbody>\n",
       "    <tr>\n",
       "      <th>count</th>\n",
       "      <td>25.000000</td>\n",
       "      <td>25.000000</td>\n",
       "    </tr>\n",
       "    <tr>\n",
       "      <th>mean</th>\n",
       "      <td>5.012000</td>\n",
       "      <td>51.480000</td>\n",
       "    </tr>\n",
       "    <tr>\n",
       "      <th>std</th>\n",
       "      <td>2.525094</td>\n",
       "      <td>25.286887</td>\n",
       "    </tr>\n",
       "    <tr>\n",
       "      <th>min</th>\n",
       "      <td>1.100000</td>\n",
       "      <td>17.000000</td>\n",
       "    </tr>\n",
       "    <tr>\n",
       "      <th>25%</th>\n",
       "      <td>2.700000</td>\n",
       "      <td>30.000000</td>\n",
       "    </tr>\n",
       "    <tr>\n",
       "      <th>50%</th>\n",
       "      <td>4.800000</td>\n",
       "      <td>47.000000</td>\n",
       "    </tr>\n",
       "    <tr>\n",
       "      <th>75%</th>\n",
       "      <td>7.400000</td>\n",
       "      <td>75.000000</td>\n",
       "    </tr>\n",
       "    <tr>\n",
       "      <th>max</th>\n",
       "      <td>9.200000</td>\n",
       "      <td>95.000000</td>\n",
       "    </tr>\n",
       "  </tbody>\n",
       "</table>\n",
       "</div>"
      ],
      "text/plain": [
       "           Hours     Scores\n",
       "count  25.000000  25.000000\n",
       "mean    5.012000  51.480000\n",
       "std     2.525094  25.286887\n",
       "min     1.100000  17.000000\n",
       "25%     2.700000  30.000000\n",
       "50%     4.800000  47.000000\n",
       "75%     7.400000  75.000000\n",
       "max     9.200000  95.000000"
      ]
     },
     "execution_count": 7,
     "metadata": {},
     "output_type": "execute_result"
    }
   ],
   "source": [
    "df.describe()"
   ]
  },
  {
   "cell_type": "markdown",
   "id": "5f4af08a",
   "metadata": {},
   "source": [
    "#### Drawing a boxplot for checking outliers"
   ]
  },
  {
   "cell_type": "code",
   "execution_count": 8,
   "id": "e1758e0c",
   "metadata": {},
   "outputs": [
    {
     "data": {
      "image/png": "[encoded data removed]",
      "text/plain": [
       "<Figure size 720x576 with 1 Axes>"
      ]
     },
     "metadata": {
      "needs_background": "light"
     },
     "output_type": "display_data"
    }
   ],
   "source": [
    "plt.figure(figsize=(10,8))\n",
    "sns.boxplot(data=df,y='Scores',color='grey');"
   ]
  },
  {
   "cell_type": "markdown",
   "id": "a9edd769",
   "metadata": {},
   "source": [
    "##### From above plot we conclude that there is no outlier present in our dataframe"
   ]
  },
  {
   "cell_type": "markdown",
   "id": "33215cc3",
   "metadata": {},
   "source": [
    "## Data Visualization"
   ]
  },
  {
   "cell_type": "markdown",
   "id": "17688dfa",
   "metadata": {},
   "source": [
    "#### Scatterplot between Hours vs Study"
   ]
  },
  {
   "cell_type": "code",
   "execution_count": 9,
   "id": "2973118f",
   "metadata": {},
   "outputs": [
    {
     "data": {
      "image/png": "[encoded data removed]",
      "text/plain": [
       "<Figure size 720x432 with 1 Axes>"
      ]
     },
     "metadata": {
      "needs_background": "light"
     },
     "output_type": "display_data"
    }
   ],
   "source": [
    "plt.figure(figsize=(10,6))\n",
    "sns.scatterplot(data=df,x='Hours',y='Scores',color='red',label='Scores')\n",
    "plt.title('Hours vs Scores')\n",
    "plt.xlabel('Hours')\n",
    "plt.ylabel('Scores')\n",
    "plt.show()"
   ]
  },
  {
   "cell_type": "markdown",
   "id": "498f5334",
   "metadata": {},
   "source": [
    "##### From the above graph  it is clear that there is linear relationship between Hours and Scores."
   ]
  },
  {
   "cell_type": "markdown",
   "id": "82d4ee5a",
   "metadata": {},
   "source": [
    "## Modelling of Data"
   ]
  },
  {
   "cell_type": "code",
   "execution_count": 10,
   "id": "8b7e6dd8",
   "metadata": {},
   "outputs": [],
   "source": [
    "# seprate input and output\n",
    "X=df[['Hours']]\n",
    "y=df['Scores']"
   ]
  },
  {
   "cell_type": "markdown",
   "id": "aa7772c6",
   "metadata": {},
   "source": [
    "#### Splitting the data into training and test set"
   ]
  },
  {
   "cell_type": "code",
   "execution_count": 11,
   "id": "6dac1555",
   "metadata": {},
   "outputs": [],
   "source": [
    "X_train, X_test, y_train, y_test = train_test_split(X, y, test_size=0.30, random_state=101)"
   ]
  },
  {
   "cell_type": "markdown",
   "id": "b3ebe7fd",
   "metadata": {},
   "source": [
    "#### Training the model"
   ]
  },
  {
   "cell_type": "code",
   "execution_count": 12,
   "id": "d9d246e1",
   "metadata": {},
   "outputs": [
    {
     "data": {
      "text/plain": [
       "LinearRegression()"
      ]
     },
     "execution_count": 12,
     "metadata": {},
     "output_type": "execute_result"
    }
   ],
   "source": [
    "model=LinearRegression()\n",
    "model.fit(X_train,y_train)"
   ]
  },
  {
   "cell_type": "markdown",
   "id": "1425099f",
   "metadata": {},
   "source": [
    "#### Intercept and cofficient"
   ]
  },
  {
   "cell_type": "code",
   "execution_count": 13,
   "id": "6622dc66",
   "metadata": {},
   "outputs": [
    {
     "name": "stdout",
     "output_type": "stream",
     "text": [
      "Intercept :  2.1024930747922213\n",
      "Cofficient :  [9.96651548]\n"
     ]
    }
   ],
   "source": [
    "print(\"Intercept : \",model.intercept_)\n",
    "print(\"Cofficient : \",model.coef_)"
   ]
  },
  {
   "cell_type": "markdown",
   "id": "936a07fa",
   "metadata": {},
   "source": [
    "#### Predicted y for test set"
   ]
  },
  {
   "cell_type": "code",
   "execution_count": 14,
   "id": "3d4e0d3d",
   "metadata": {},
   "outputs": [],
   "source": [
    "y_pred=model.predict(X_test)"
   ]
  },
  {
   "cell_type": "code",
   "execution_count": 15,
   "id": "fbc5ad3c",
   "metadata": {},
   "outputs": [
    {
     "data": {
      "text/plain": [
       "array([27.01878177, 78.84466226, 39.97525189, 75.85470762, 56.91832821,\n",
       "       49.94176737, 33.99534261, 86.81787465])"
      ]
     },
     "execution_count": 15,
     "metadata": {},
     "output_type": "execute_result"
    }
   ],
   "source": [
    "y_pred"
   ]
  },
  {
   "cell_type": "markdown",
   "id": "ae16fd10",
   "metadata": {},
   "source": [
    "#### Creat a dataframe including both actual and predicted target value"
   ]
  },
  {
   "cell_type": "code",
   "execution_count": 16,
   "id": "e6105dd0",
   "metadata": {},
   "outputs": [
    {
     "data": {
      "text/html": [
       "<div>\n",
       "<style scoped>\n",
       "    .dataframe tbody tr th:only-of-type {\n",
       "        vertical-align: middle;\n",
       "    }\n",
       "\n",
       "    .dataframe tbody tr th {\n",
       "        vertical-align: top;\n",
       "    }\n",
       "\n",
       "    .dataframe thead th {\n",
       "        text-align: right;\n",
       "    }\n",
       "</style>\n",
       "<table border=\"1\" class=\"dataframe\">\n",
       "  <thead>\n",
       "    <tr style=\"text-align: right;\">\n",
       "      <th></th>\n",
       "      <th>Actual y</th>\n",
       "      <th>Predicted Y</th>\n",
       "    </tr>\n",
       "  </thead>\n",
       "  <tbody>\n",
       "    <tr>\n",
       "      <th>16</th>\n",
       "      <td>30</td>\n",
       "      <td>27.018782</td>\n",
       "    </tr>\n",
       "    <tr>\n",
       "      <th>10</th>\n",
       "      <td>85</td>\n",
       "      <td>78.844662</td>\n",
       "    </tr>\n",
       "    <tr>\n",
       "      <th>22</th>\n",
       "      <td>35</td>\n",
       "      <td>39.975252</td>\n",
       "    </tr>\n",
       "    <tr>\n",
       "      <th>19</th>\n",
       "      <td>69</td>\n",
       "      <td>75.854708</td>\n",
       "    </tr>\n",
       "    <tr>\n",
       "      <th>7</th>\n",
       "      <td>60</td>\n",
       "      <td>56.918328</td>\n",
       "    </tr>\n",
       "    <tr>\n",
       "      <th>21</th>\n",
       "      <td>54</td>\n",
       "      <td>49.941767</td>\n",
       "    </tr>\n",
       "    <tr>\n",
       "      <th>2</th>\n",
       "      <td>27</td>\n",
       "      <td>33.995343</td>\n",
       "    </tr>\n",
       "    <tr>\n",
       "      <th>3</th>\n",
       "      <td>75</td>\n",
       "      <td>86.817875</td>\n",
       "    </tr>\n",
       "  </tbody>\n",
       "</table>\n",
       "</div>"
      ],
      "text/plain": [
       "    Actual y  Predicted Y\n",
       "16        30    27.018782\n",
       "10        85    78.844662\n",
       "22        35    39.975252\n",
       "19        69    75.854708\n",
       "7         60    56.918328\n",
       "21        54    49.941767\n",
       "2         27    33.995343\n",
       "3         75    86.817875"
      ]
     },
     "execution_count": 16,
     "metadata": {},
     "output_type": "execute_result"
    }
   ],
   "source": [
    "actual_vs_pred_df=pd.DataFrame({'Actual y':y_test,'Predicted Y':y_pred})\n",
    "actual_vs_pred_df"
   ]
  },
  {
   "cell_type": "markdown",
   "id": "3b0cff16",
   "metadata": {},
   "source": [
    "#### Visualization of actual vs predicted"
   ]
  },
  {
   "cell_type": "code",
   "execution_count": 17,
   "id": "bcf821e5",
   "metadata": {},
   "outputs": [
    {
     "data": {
      "image/png": "[encoded data removed]",
      "text/plain": [
       "<Figure size 2000x1200 with 1 Axes>"
      ]
     },
     "metadata": {
      "needs_background": "light"
     },
     "output_type": "display_data"
    }
   ],
   "source": [
    "plt.figure(figsize=(10,6),dpi=200)\n",
    "plt.scatter(X_test,y_test,color='blue',label='Actual Score')\n",
    "plt.plot(X_test,y_pred,color='red',label='Regression Line')\n",
    "plt.title('Actual vs Predicted')\n",
    "plt.xlabel('Hours')\n",
    "plt.ylabel('Scores')\n",
    "plt.legend(bbox_to_anchor=(1.29,.5))\n",
    "plt.show()"
   ]
  },
  {
   "cell_type": "markdown",
   "id": "233bf584",
   "metadata": {},
   "source": [
    "##### From above graph, we see that the predicted regression line is good fit for test set."
   ]
  },
  {
   "cell_type": "markdown",
   "id": "ee581b0e",
   "metadata": {},
   "source": [
    "#### Calculating the model accuracy"
   ]
  },
  {
   "cell_type": "code",
   "execution_count": 18,
   "id": "76be2a65",
   "metadata": {},
   "outputs": [
    {
     "name": "stdout",
     "output_type": "stream",
     "text": [
      "Training Score :  0.9662064488954937\n",
      "Testing Score :  0.8999124290533055\n",
      "Mean Absolute Error :  5.864954643694258\n",
      "Mean Squared Error :  41.634865645528876\n",
      "Root Mean Squared Error :  6.4525084769823335\n"
     ]
    }
   ],
   "source": [
    "print(\"Training Score : \",model.score(X_train,y_train))\n",
    "print(\"Testing Score : \",model.score(X_test,y_test))\n",
    "print(\"Mean Absolute Error : \",mean_absolute_error(y_test,y_pred))\n",
    "print(\"Mean Squared Error : \",mean_squared_error(y_test,y_pred))\n",
    "print(\"Root Mean Squared Error : \",np.sqrt(mean_squared_error(y_test,y_pred)))"
   ]
  },
  {
   "cell_type": "markdown",
   "id": "5d92d1b9",
   "metadata": {},
   "source": [
    "#### Creat a final model that include all the data which are present in our dataframe"
   ]
  },
  {
   "cell_type": "code",
   "execution_count": 19,
   "id": "a5e48d85",
   "metadata": {},
   "outputs": [
    {
     "data": {
      "text/plain": [
       "LinearRegression()"
      ]
     },
     "execution_count": 19,
     "metadata": {},
     "output_type": "execute_result"
    }
   ],
   "source": [
    "final_model=LinearRegression()\n",
    "final_model.fit(X,y)"
   ]
  },
  {
   "cell_type": "markdown",
   "id": "3ca1b1c6",
   "metadata": {},
   "source": [
    "#### Predict the value for given hours of study"
   ]
  },
  {
   "cell_type": "code",
   "execution_count": 20,
   "id": "d3b05168",
   "metadata": {},
   "outputs": [
    {
     "name": "stdout",
     "output_type": "stream",
     "text": [
      "Predicted Score :  [92.90985477]\n"
     ]
    }
   ],
   "source": [
    "Hours_studies=[[9.25]]\n",
    "pred_score=final_model.predict(Hours_studies)\n",
    "print('Predicted Score : ',pred_score)"
   ]
  },
  {
   "cell_type": "markdown",
   "id": "d802604d",
   "metadata": {},
   "source": [
    "#### If a student studied 9.25 hours/day the we can expect that he/she would score approx 92.90985477."
   ]
  },
  {
   "cell_type": "markdown",
   "id": "bfd9c7bb",
   "metadata": {},
   "source": [
    "# Thank U "
   ]
  }
 ],
 "metadata": {
  "kernelspec": {
   "display_name": "Python 3",
   "language": "python",
   "name": "python3"
  },
  "language_info": {
   "codemirror_mode": {
    "name": "ipython",
    "version": 3
   },
   "file_extension": ".py",
   "mimetype": "text/x-python",
   "name": "python",
   "nbconvert_exporter": "python",
   "pygments_lexer": "ipython3",
   "version": "3.8.8"
  }
 },
 "nbformat": 4,
 "nbformat_minor": 5
}
